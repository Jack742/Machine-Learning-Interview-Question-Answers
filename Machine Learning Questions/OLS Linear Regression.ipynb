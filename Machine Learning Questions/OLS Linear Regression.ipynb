{
 "cells": [
  {
   "cell_type": "markdown",
   "metadata": {},
   "source": [
    "*Valentina Alto has a great blog post on OLS linear regression! read it here: https://towardsdatascience.com/understanding-the-ols-method-for-simple-linear-regression-e0a4e8f692cc*"
   ]
  },
  {
   "cell_type": "markdown",
   "metadata": {},
   "source": [
    "## Ordinary Least Squares Linear Regression\n",
    "Linear regression is a simple linear approach that models the relationship between input variables $X$ and the single output variable $Y$\n",
    "\n",
    "This can be implemented in a number of ways, most commonly through either ordinary least squares (OLS).\n",
    "\n",
    "The linear regression problem can be formulated as such:\n",
    "\n",
    "$Y = \\alpha + \\Sigma_{i=1..p} \\beta_{i}X_{i} + \\epsilon_{i}$\n",
    "\n",
    "where $\\epsilon$ is the error term, $\\alpha$ is the value of the dependent variable $Y$ when the independent variables are $0$, and $\\beta_{j}$ is the weight applied to the independent variable $X_{j}$\n",
    "\n",
    "For now, lets consider the simple case where there is only one independent variable:\n",
    "\n",
    "$Y = \\alpha + \\beta X + \\epsilon$\n",
    "\n",
    "or, for a single data point:\n",
    "\n",
    "$y_{i} = \\alpha + \\beta x_{i} + \\epsilon_{i}$\n",
    "\n",
    "The goal here is to select values for $\\alpha$ and $\\beta$ that minimise the error term $\\epsilon$. We can start by rearranging the formula:\n",
    "\n",
    "$\\epsilon_{i} = y_{i} - \\alpha - \\beta x_{i}$\n",
    "\n",
    "thus for all data points...\n",
    "\n",
    "$\\Sigma_{i=1}^{n}\\epsilon_{i} = \\Sigma_{i=1}^{n}(y_{i} - \\alpha - \\beta x_{i}$)\n",
    "\n",
    "As error could be positive or negative, we square $\\epsilon$ to ensure all error contributes positively to the term:\n",
    "\n",
    "$\\Sigma_{i=1}^{n}\\epsilon_{i}^{2} = \\Sigma_{i=1}^{n}(y_{i} - \\alpha - \\beta x_{i})^{2}$\n",
    "\n",
    "Now we can set about minimising $\\epsilon$ by choosing good values for $\\alpha$ and $\\beta$. This is achieved through calculating the partial derivative of the function with respect to the parameters\n",
    "\n",
    "let $L(\\alpha, \\beta) = \\Sigma_{i=1}^{n}\\epsilon_{i}^{2} = \\Sigma_{i=1}^{n}(y_{i} - \\alpha - \\beta x_{i})^{2}$\n",
    "\n",
    "\n",
    "\n",
    "$L(\\alpha \\beta) = \\Sigma_{i=1}^{n}(y_{i} - \\alpha - \\beta x_{i})^{2}$\n",
    "\n",
    "$L(\\alpha \\beta) = \\Sigma_{i=1}^{n}(y_{i} - \\alpha - \\beta x_{i})(y_{i} - \\alpha - \\beta x_{i})$\n",
    "\n",
    "$L(\\alpha \\beta) = \\Sigma_{i=1}^{n} y_{i}^{2} + \\alpha^{2} + (\\beta x_{i})^{2} - 2y_{i}\\alpha - 2y_{i}\\beta x_{i} + 2abx_{i}$\n",
    "\n",
    "\n",
    "Solve for $\\beta$: \n",
    "\n",
    "Set to $0$ as this is the point of inflection (i.e. the minima)\n",
    "\n",
    "$\\frac{\\delta L(\\alpha, \\beta)}{\\delta \\beta} = 0$\n",
    "\n",
    "$\\Sigma_{i=1}^{n} 2\\alpha x_{i} - 2y_{i}x_{i} + 2\\beta x_{i} = 0$ \n",
    "\n",
    "$\\Sigma_{i=1}^{n}(y_{i} - \\alpha - \\beta x_{i})x_{i} = 0$\n",
    "\n",
    "substituting $\\Sigma_{i=1}^{n}\\alpha = \\Sigma_{i=1}^{n}y_{i}-\\beta x_{i}$\n",
    "$\\alpha = \\frac{\\Sigma_{i=1}^{n}y_{i}-\\beta x_{i}}{\\Sigma_{i=1}^{n}}$\n",
    "\n",
    "$\\therefore \\alpha = \\bar{y} - \\beta \\bar{x}$\n",
    "\n",
    "$\\Sigma_{i=1}^{n}(y_{i} - (\\bar{y} - \\beta \\bar{x}) - \\beta x_{i})x_{i} = 0$\n",
    "\n",
    "$\\Sigma_{i=1}^{n} y_{i}x_{i} - (\\bar{y} + \\beta \\bar{x})x_{i} - \\beta x_{i}^{2} = 0$\n",
    "\n",
    "$\\beta \\Sigma_{i=1}^{n}(x_{i} - \\bar{x}) = \\Sigma_{i=1}^{n}(\\bar{y} - y_{i})$\n",
    "\n",
    "$\\beta = \\frac{\\Sigma_{i=1}^{n}(y_{i} - \\bar{y})}{\\Sigma_{i=1}^{n}(x_{i} - \\bar{x})}$\n",
    "\n",
    "\n",
    "Solve for $\\alpha$:\n",
    "\n",
    "$\\frac{\\delta L(\\alpha, \\beta)}{\\delta \\alpha} = 0$\n",
    "\n",
    "$\\Sigma_{i=1}^{n} 2\\alpha - 2y_{i} + 2\\beta x_{i} = 0$ \n",
    "\n",
    "$\\Sigma_{i=1}^{n} y_{i} -\\alpha - \\beta x_{i} = 0$ \n",
    "\n",
    "$\\Sigma_{i=1}^{n} \\alpha = \\Sigma_{i=1}^{n} y_{i} - \\beta x_{i}$ \n",
    "\n",
    "$\\alpha = \\frac{\\Sigma_{i=1}^{n} y_{i} - \\beta x_{i}}{\\Sigma_{i=1}^{n}}$\n",
    "\n",
    "$\\alpha = \\bar{y} - \\beta \\bar{x}$\n",
    "\n",
    "with $\\alpha$ and $\\beta$ found, we now have our regression model by substituting these values back in to the equation above:\n",
    "\n",
    "$y = \\alpha + \\beta x$\n"
   ]
  },
  {
   "cell_type": "code",
   "execution_count": 12,
   "metadata": {},
   "outputs": [],
   "source": [
    "import jax.numpy as jnp\n",
    "from jax import random, grad, jit, vmap, device_put\n",
    "import matplotlib.pyplot as plt\n",
    "from sklearn import datasets"
   ]
  },
  {
   "cell_type": "code",
   "execution_count": 13,
   "metadata": {},
   "outputs": [
    {
     "name": "stdout",
     "output_type": "stream",
     "text": [
      "gpu\n"
     ]
    }
   ],
   "source": [
    "from jax.lib import xla_bridge\n",
    "print(xla_bridge.get_backend().platform)"
   ]
  },
  {
   "cell_type": "code",
   "execution_count": 14,
   "metadata": {},
   "outputs": [],
   "source": [
    "\"\"\"\n",
    "Get dataset\n",
    "Split into test and train\n",
    "\"\"\"\n",
    "diabetes_X, diabetes_Y = datasets.load_diabetes(return_X_y=True)\n",
    "\n",
    "#Lets use just 1 independent variable\n",
    "diabetes_X = diabetes_X[:,None,2]\n",
    "\n",
    "\n",
    "diabetes_X_train = device_put(diabetes_X[:-20])\n",
    "diabetes_X_test = device_put(diabetes_X[-20:])\n",
    "\n",
    "diabetes_Y_train = device_put(diabetes_Y[:-20])\n",
    "diabetes_Y_test = device_put(diabetes_Y[-20:])"
   ]
  },
  {
   "cell_type": "markdown",
   "metadata": {},
   "source": [
    "recall we need to find $\\beta$ and $\\alpha$. Let's start with $\\beta$\n",
    "\n",
    "$\\beta = \\frac{\\Sigma_{i=1}^{n}(y_{i} - \\bar{y})}{\\Sigma_{i=1}^{n}(x_{i} - \\bar{x})}$"
   ]
  },
  {
   "cell_type": "code",
   "execution_count": 15,
   "metadata": {},
   "outputs": [
    {
     "data": {
      "text/plain": [
       "DeviceArray(938.23804, dtype=float32)"
      ]
     },
     "execution_count": 15,
     "metadata": {},
     "output_type": "execute_result"
    }
   ],
   "source": [
    "def calc_numerator(arr1: jnp.array, arr2: jnp.array) -> float:\n",
    "    mean1 = jnp.mean(arr1)\n",
    "    mean2 = jnp.mean(arr2) \n",
    "    return jnp.sum(jnp.array([(val1 - mean1)*(val2 - mean2) for val1, val2 in zip(arr1, arr2)])).astype(float)  \n",
    "    #float(jnp.sum(jnp.array()))\n",
    "    \n",
    "\n",
    "def calc_denom(arr: jnp.array) -> float:\n",
    "    mean = arr.mean()\n",
    "    return float(sum([(val-mean)**2 for val in arr]))\n",
    "\n",
    "beta = calc_numerator(diabetes_X_train,diabetes_Y_train)/calc_denom(diabetes_X_train)\n",
    "\n",
    "beta\n",
    "\n"
   ]
  },
  {
   "cell_type": "markdown",
   "metadata": {},
   "source": [
    "$\\alpha = \\bar{y} - \\beta \\bar{x}$"
   ]
  },
  {
   "cell_type": "code",
   "execution_count": 16,
   "metadata": {},
   "outputs": [
    {
     "data": {
      "text/plain": [
       "DeviceArray(152.91887, dtype=float32)"
      ]
     },
     "execution_count": 16,
     "metadata": {},
     "output_type": "execute_result"
    }
   ],
   "source": [
    "alpha = diabetes_Y_train.mean() - (beta * diabetes_X_train.mean())\n",
    "alpha\n"
   ]
  },
  {
   "cell_type": "code",
   "execution_count": 17,
   "metadata": {},
   "outputs": [
    {
     "data": {
      "text/plain": [
       "DeviceArray([2548.0723], dtype=float32)"
      ]
     },
     "execution_count": 17,
     "metadata": {},
     "output_type": "execute_result"
    }
   ],
   "source": [
    "def MSE(y, y_pred):\n",
    "\n",
    "    return sum([(y[i]-y_pred[i])**2 for i in range(len(y))])/len(y)\n",
    "\n",
    "y_preds = []\n",
    "for y,x in zip(diabetes_Y_test,diabetes_X_test):\n",
    "    y_pred = alpha + (beta*x)\n",
    "    y_preds.append(y_pred)\n",
    "\n",
    "\n",
    "MSE(diabetes_Y_test, y_preds)    "
   ]
  },
  {
   "cell_type": "code",
   "execution_count": 18,
   "metadata": {},
   "outputs": [
    {
     "data": {
      "text/plain": [
       "[<matplotlib.lines.Line2D at 0x7fbd10160400>]"
      ]
     },
     "execution_count": 18,
     "metadata": {},
     "output_type": "execute_result"
    },
    {
     "data": {
      "image/png": "[encoded data removed]",
      "text/plain": [
       "<Figure size 432x288 with 1 Axes>"
      ]
     },
     "metadata": {
      "needs_background": "light"
     },
     "output_type": "display_data"
    }
   ],
   "source": [
    "plt.scatter(diabetes_X_test, diabetes_Y_test, color=\"black\")\n",
    "plt.plot(diabetes_X_test, y_preds, color=\"blue\", linewidth=3)"
   ]
  },
  {
   "cell_type": "code",
   "execution_count": 19,
   "metadata": {},
   "outputs": [
    {
     "data": {
      "text/plain": [
       "array([938.23785], dtype=float32)"
      ]
     },
     "execution_count": 19,
     "metadata": {},
     "output_type": "execute_result"
    }
   ],
   "source": [
    "from sklearn import linear_model\n",
    "\n",
    "regr = linear_model.LinearRegression()\n",
    "\n",
    "regr.fit(diabetes_X_train, diabetes_Y_train)\n",
    "regr.coef_"
   ]
  },
  {
   "cell_type": "code",
   "execution_count": 20,
   "metadata": {},
   "outputs": [
    {
     "data": {
      "text/plain": [
       "DeviceArray(2548.0725, dtype=float32)"
      ]
     },
     "execution_count": 20,
     "metadata": {},
     "output_type": "execute_result"
    }
   ],
   "source": [
    "diabetes_y_pred = regr.predict(diabetes_X_test)\n",
    "MSE(diabetes_Y_test, diabetes_y_pred)"
   ]
  },
  {
   "cell_type": "code",
   "execution_count": 21,
   "metadata": {},
   "outputs": [
    {
     "data": {
      "text/plain": [
       "[<matplotlib.lines.Line2D at 0x7fbd100c1f70>]"
      ]
     },
     "execution_count": 21,
     "metadata": {},
     "output_type": "execute_result"
    },
    {
     "data": {
      "image/png": "[encoded data removed]",
      "text/plain": [
       "<Figure size 432x288 with 1 Axes>"
      ]
     },
     "metadata": {
      "needs_background": "light"
     },
     "output_type": "display_data"
    }
   ],
   "source": [
    "plt.scatter(diabetes_X_test, diabetes_Y_test, color=\"black\")\n",
    "plt.plot(diabetes_X_test, diabetes_y_pred, color=\"blue\", linewidth=3)"
   ]
  },
  {
   "cell_type": "code",
   "execution_count": 22,
   "metadata": {},
   "outputs": [
    {
     "name": "stdout",
     "output_type": "stream",
     "text": [
      "-1.0\n",
      "-0.0851063829787234\n"
     ]
    }
   ],
   "source": [
    "a = [1,2,3]\n",
    "b = [1,5,9]\n",
    "\n",
    "a_ = 3\n",
    "b_ = 4\n",
    "print(sum([i-a_ for i in a])/sum([j-b_ for j in b]))\n",
    "\n",
    "print(sum([i*(i-a_) for i in a])/sum([j*(j-b_) for j in b]))\n"
   ]
  },
  {
   "cell_type": "code",
   "execution_count": null,
   "metadata": {},
   "outputs": [],
   "source": []
  }
 ],
 "metadata": {
  "interpreter": {
   "hash": "59ac764984914fe8e0c657f22a743f4cd4d844eddc087eb14206854eff6f21cf"
  },
  "kernelspec": {
   "display_name": "Python 3.9.7 ('base')",
   "language": "python",
   "name": "python3"
  },
  "language_info": {
   "codemirror_mode": {
    "name": "ipython",
    "version": 3
   },
   "file_extension": ".py",
   "mimetype": "text/x-python",
   "name": "python",
   "nbconvert_exporter": "python",
   "pygments_lexer": "ipython3",
   "version": "3.9.7"
  },
  "orig_nbformat": 4
 },
 "nbformat": 4,
 "nbformat_minor": 2
}
